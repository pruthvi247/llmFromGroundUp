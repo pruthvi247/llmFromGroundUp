{
 "cells": [
  {
   "cell_type": "markdown",
   "id": "883619e8",
   "metadata": {},
   "source": [
    "# Graph 5"
   ]
  },
  {
   "cell_type": "code",
   "execution_count": 1,
   "id": "d7daead3",
   "metadata": {},
   "outputs": [],
   "source": [
    "from langgraph.graph import StateGraph, END\n",
    "import random\n",
    "from typing import Dict, List, TypedDict"
   ]
  },
  {
   "cell_type": "code",
   "execution_count": 2,
   "id": "927b903c",
   "metadata": {},
   "outputs": [],
   "source": [
    "class AgentState(TypedDict):\n",
    "    name: str\n",
    "    number: List[int]\n",
    "    counter: int"
   ]
  },
  {
   "cell_type": "code",
   "execution_count": 3,
   "id": "05dc5bbb",
   "metadata": {},
   "outputs": [],
   "source": [
    "def greeting_node(state: AgentState) -> AgentState:\n",
    "    \"\"\"Greeting Node which says hi to the person\"\"\"\n",
    "    state[\"name\"] = f\"Hi there, {state['name']}\"\n",
    "    state[\"counter\"] = 0 \n",
    "\n",
    "    return state\n",
    "\n",
    "def random_node(state: AgentState) -> AgentState:\n",
    "    \"\"\"Generates a random number from 0 to 10\"\"\"\n",
    "    state[\"number\"].append(random.randint(0, 10))\n",
    "    state[\"counter\"] += 1\n",
    "\n",
    "    return state\n",
    "\n",
    "def should_continue(state: AgentState) -> AgentState:\n",
    "    \"\"\"Function to decide what to do next\"\"\"\n",
    "    if state[\"counter\"] < 5:\n",
    "        print(\"ENTERING LOOP\", state[\"counter\"])\n",
    "        return \"loop\"  # Continue looping\n",
    "    else:\n",
    "        return \"exit\"  # Exit the loop\n",
    "    "
   ]
  },
  {
   "cell_type": "code",
   "execution_count": 4,
   "id": "ce543ede",
   "metadata": {},
   "outputs": [],
   "source": [
    "### # greeting → random → random → random → random → random → END\n"
   ]
  },
  {
   "cell_type": "code",
   "execution_count": 5,
   "id": "331f1cfd",
   "metadata": {},
   "outputs": [],
   "source": [
    "graph = StateGraph(AgentState)\n",
    "\n",
    "graph.add_node(\"greeting\", greeting_node)\n",
    "graph.add_node(\"random\", random_node)\n",
    "graph.add_edge(\"greeting\", \"random\")\n",
    "\n",
    "\n",
    "graph.add_conditional_edges(\n",
    "    \"random\",     # Source node\n",
    "    should_continue, # Action\n",
    "    {\n",
    "        \"loop\": \"random\",  \n",
    "        \"exit\": END          \n",
    "    }\n",
    ")\n",
    "\n",
    "graph.set_entry_point(\"greeting\")\n",
    "\n",
    "app = graph.compile()"
   ]
  },
  {
   "cell_type": "code",
   "execution_count": 10,
   "id": "09e8b57e",
   "metadata": {},
   "outputs": [
    {
     "ename": "ValueError",
     "evalue": "Failed to reach https://mermaid.ink API while trying to render your graph. Status code: 204.\n\nTo resolve this issue:\n1. Check your internet connection and try again\n2. Try with higher retry settings: `draw_mermaid_png(..., max_retries=5, retry_delay=2.0)`\n3. Use the Pyppeteer rendering method which will render your graph locally in a browser: `draw_mermaid_png(..., draw_method=MermaidDrawMethod.PYPPETEER)`",
     "output_type": "error",
     "traceback": [
      "\u001b[0;31m---------------------------------------------------------------------------\u001b[0m",
      "\u001b[0;31mValueError\u001b[0m                                Traceback (most recent call last)",
      "Cell \u001b[0;32mIn[10], line 2\u001b[0m\n\u001b[1;32m      1\u001b[0m \u001b[38;5;28;01mfrom\u001b[39;00m\u001b[38;5;250m \u001b[39m\u001b[38;5;21;01mIPython\u001b[39;00m\u001b[38;5;21;01m.\u001b[39;00m\u001b[38;5;21;01mdisplay\u001b[39;00m\u001b[38;5;250m \u001b[39m\u001b[38;5;28;01mimport\u001b[39;00m Image, display\n\u001b[0;32m----> 2\u001b[0m display(Image(\u001b[43mapp\u001b[49m\u001b[38;5;241;43m.\u001b[39;49m\u001b[43mget_graph\u001b[49m\u001b[43m(\u001b[49m\u001b[43m)\u001b[49m\u001b[38;5;241;43m.\u001b[39;49m\u001b[43mdraw_mermaid_png\u001b[49m\u001b[43m(\u001b[49m\u001b[43m)\u001b[49m))\n",
      "File \u001b[0;32m~/Documents/workspace/open_source/practice-projects/llmFromGroundUp/.venv/lib/python3.10/site-packages/langchain_core/runnables/graph.py:704\u001b[0m, in \u001b[0;36mGraph.draw_mermaid_png\u001b[0;34m(self, curve_style, node_colors, wrap_label_n_words, output_file_path, draw_method, background_color, padding, max_retries, retry_delay, frontmatter_config, base_url)\u001b[0m\n\u001b[1;32m    694\u001b[0m \u001b[38;5;28;01mfrom\u001b[39;00m\u001b[38;5;250m \u001b[39m\u001b[38;5;21;01mlangchain_core\u001b[39;00m\u001b[38;5;21;01m.\u001b[39;00m\u001b[38;5;21;01mrunnables\u001b[39;00m\u001b[38;5;21;01m.\u001b[39;00m\u001b[38;5;21;01mgraph_mermaid\u001b[39;00m\u001b[38;5;250m \u001b[39m\u001b[38;5;28;01mimport\u001b[39;00m (  \u001b[38;5;66;03m# noqa: PLC0415\u001b[39;00m\n\u001b[1;32m    695\u001b[0m     draw_mermaid_png,\n\u001b[1;32m    696\u001b[0m )\n\u001b[1;32m    698\u001b[0m mermaid_syntax \u001b[38;5;241m=\u001b[39m \u001b[38;5;28mself\u001b[39m\u001b[38;5;241m.\u001b[39mdraw_mermaid(\n\u001b[1;32m    699\u001b[0m     curve_style\u001b[38;5;241m=\u001b[39mcurve_style,\n\u001b[1;32m    700\u001b[0m     node_colors\u001b[38;5;241m=\u001b[39mnode_colors,\n\u001b[1;32m    701\u001b[0m     wrap_label_n_words\u001b[38;5;241m=\u001b[39mwrap_label_n_words,\n\u001b[1;32m    702\u001b[0m     frontmatter_config\u001b[38;5;241m=\u001b[39mfrontmatter_config,\n\u001b[1;32m    703\u001b[0m )\n\u001b[0;32m--> 704\u001b[0m \u001b[38;5;28;01mreturn\u001b[39;00m \u001b[43mdraw_mermaid_png\u001b[49m\u001b[43m(\u001b[49m\n\u001b[1;32m    705\u001b[0m \u001b[43m    \u001b[49m\u001b[43mmermaid_syntax\u001b[49m\u001b[38;5;241;43m=\u001b[39;49m\u001b[43mmermaid_syntax\u001b[49m\u001b[43m,\u001b[49m\n\u001b[1;32m    706\u001b[0m \u001b[43m    \u001b[49m\u001b[43moutput_file_path\u001b[49m\u001b[38;5;241;43m=\u001b[39;49m\u001b[43moutput_file_path\u001b[49m\u001b[43m,\u001b[49m\n\u001b[1;32m    707\u001b[0m \u001b[43m    \u001b[49m\u001b[43mdraw_method\u001b[49m\u001b[38;5;241;43m=\u001b[39;49m\u001b[43mdraw_method\u001b[49m\u001b[43m,\u001b[49m\n\u001b[1;32m    708\u001b[0m \u001b[43m    \u001b[49m\u001b[43mbackground_color\u001b[49m\u001b[38;5;241;43m=\u001b[39;49m\u001b[43mbackground_color\u001b[49m\u001b[43m,\u001b[49m\n\u001b[1;32m    709\u001b[0m \u001b[43m    \u001b[49m\u001b[43mpadding\u001b[49m\u001b[38;5;241;43m=\u001b[39;49m\u001b[43mpadding\u001b[49m\u001b[43m,\u001b[49m\n\u001b[1;32m    710\u001b[0m \u001b[43m    \u001b[49m\u001b[43mmax_retries\u001b[49m\u001b[38;5;241;43m=\u001b[39;49m\u001b[43mmax_retries\u001b[49m\u001b[43m,\u001b[49m\n\u001b[1;32m    711\u001b[0m \u001b[43m    \u001b[49m\u001b[43mretry_delay\u001b[49m\u001b[38;5;241;43m=\u001b[39;49m\u001b[43mretry_delay\u001b[49m\u001b[43m,\u001b[49m\n\u001b[1;32m    712\u001b[0m \u001b[43m    \u001b[49m\u001b[43mbase_url\u001b[49m\u001b[38;5;241;43m=\u001b[39;49m\u001b[43mbase_url\u001b[49m\u001b[43m,\u001b[49m\n\u001b[1;32m    713\u001b[0m \u001b[43m\u001b[49m\u001b[43m)\u001b[49m\n",
      "File \u001b[0;32m~/Documents/workspace/open_source/practice-projects/llmFromGroundUp/.venv/lib/python3.10/site-packages/langchain_core/runnables/graph_mermaid.py:322\u001b[0m, in \u001b[0;36mdraw_mermaid_png\u001b[0;34m(mermaid_syntax, output_file_path, draw_method, background_color, padding, max_retries, retry_delay, base_url)\u001b[0m\n\u001b[1;32m    316\u001b[0m     img_bytes \u001b[38;5;241m=\u001b[39m asyncio\u001b[38;5;241m.\u001b[39mrun(\n\u001b[1;32m    317\u001b[0m         _render_mermaid_using_pyppeteer(\n\u001b[1;32m    318\u001b[0m             mermaid_syntax, output_file_path, background_color, padding\n\u001b[1;32m    319\u001b[0m         )\n\u001b[1;32m    320\u001b[0m     )\n\u001b[1;32m    321\u001b[0m \u001b[38;5;28;01melif\u001b[39;00m draw_method \u001b[38;5;241m==\u001b[39m MermaidDrawMethod\u001b[38;5;241m.\u001b[39mAPI:\n\u001b[0;32m--> 322\u001b[0m     img_bytes \u001b[38;5;241m=\u001b[39m \u001b[43m_render_mermaid_using_api\u001b[49m\u001b[43m(\u001b[49m\n\u001b[1;32m    323\u001b[0m \u001b[43m        \u001b[49m\u001b[43mmermaid_syntax\u001b[49m\u001b[43m,\u001b[49m\n\u001b[1;32m    324\u001b[0m \u001b[43m        \u001b[49m\u001b[43moutput_file_path\u001b[49m\u001b[38;5;241;43m=\u001b[39;49m\u001b[43moutput_file_path\u001b[49m\u001b[43m,\u001b[49m\n\u001b[1;32m    325\u001b[0m \u001b[43m        \u001b[49m\u001b[43mbackground_color\u001b[49m\u001b[38;5;241;43m=\u001b[39;49m\u001b[43mbackground_color\u001b[49m\u001b[43m,\u001b[49m\n\u001b[1;32m    326\u001b[0m \u001b[43m        \u001b[49m\u001b[43mmax_retries\u001b[49m\u001b[38;5;241;43m=\u001b[39;49m\u001b[43mmax_retries\u001b[49m\u001b[43m,\u001b[49m\n\u001b[1;32m    327\u001b[0m \u001b[43m        \u001b[49m\u001b[43mretry_delay\u001b[49m\u001b[38;5;241;43m=\u001b[39;49m\u001b[43mretry_delay\u001b[49m\u001b[43m,\u001b[49m\n\u001b[1;32m    328\u001b[0m \u001b[43m        \u001b[49m\u001b[43mbase_url\u001b[49m\u001b[38;5;241;43m=\u001b[39;49m\u001b[43mbase_url\u001b[49m\u001b[43m,\u001b[49m\n\u001b[1;32m    329\u001b[0m \u001b[43m    \u001b[49m\u001b[43m)\u001b[49m\n\u001b[1;32m    330\u001b[0m \u001b[38;5;28;01melse\u001b[39;00m:\n\u001b[1;32m    331\u001b[0m     supported_methods \u001b[38;5;241m=\u001b[39m \u001b[38;5;124m\"\u001b[39m\u001b[38;5;124m, \u001b[39m\u001b[38;5;124m\"\u001b[39m\u001b[38;5;241m.\u001b[39mjoin([m\u001b[38;5;241m.\u001b[39mvalue \u001b[38;5;28;01mfor\u001b[39;00m m \u001b[38;5;129;01min\u001b[39;00m MermaidDrawMethod])\n",
      "File \u001b[0;32m~/Documents/workspace/open_source/practice-projects/llmFromGroundUp/.venv/lib/python3.10/site-packages/langchain_core/runnables/graph_mermaid.py:480\u001b[0m, in \u001b[0;36m_render_mermaid_using_api\u001b[0;34m(mermaid_syntax, output_file_path, background_color, file_type, max_retries, retry_delay, base_url)\u001b[0m\n\u001b[1;32m    475\u001b[0m     \u001b[38;5;66;03m# For other status codes, fail immediately\u001b[39;00m\n\u001b[1;32m    476\u001b[0m     msg \u001b[38;5;241m=\u001b[39m (\n\u001b[1;32m    477\u001b[0m         \u001b[38;5;124mf\u001b[39m\u001b[38;5;124m\"\u001b[39m\u001b[38;5;124mFailed to reach \u001b[39m\u001b[38;5;132;01m{\u001b[39;00mbase_url\u001b[38;5;132;01m}\u001b[39;00m\u001b[38;5;124m API while trying to render \u001b[39m\u001b[38;5;124m\"\u001b[39m\n\u001b[1;32m    478\u001b[0m         \u001b[38;5;124mf\u001b[39m\u001b[38;5;124m\"\u001b[39m\u001b[38;5;124myour graph. Status code: \u001b[39m\u001b[38;5;132;01m{\u001b[39;00mresponse\u001b[38;5;241m.\u001b[39mstatus_code\u001b[38;5;132;01m}\u001b[39;00m\u001b[38;5;124m.\u001b[39m\u001b[38;5;130;01m\\n\u001b[39;00m\u001b[38;5;130;01m\\n\u001b[39;00m\u001b[38;5;124m\"\u001b[39m\n\u001b[1;32m    479\u001b[0m     ) \u001b[38;5;241m+\u001b[39m error_msg_suffix\n\u001b[0;32m--> 480\u001b[0m     \u001b[38;5;28;01mraise\u001b[39;00m \u001b[38;5;167;01mValueError\u001b[39;00m(msg)\n\u001b[1;32m    482\u001b[0m \u001b[38;5;28;01mexcept\u001b[39;00m (requests\u001b[38;5;241m.\u001b[39mRequestException, requests\u001b[38;5;241m.\u001b[39mTimeout) \u001b[38;5;28;01mas\u001b[39;00m e:\n\u001b[1;32m    483\u001b[0m     \u001b[38;5;28;01mif\u001b[39;00m attempt \u001b[38;5;241m<\u001b[39m max_retries:\n\u001b[1;32m    484\u001b[0m         \u001b[38;5;66;03m# Exponential backoff with jitter\u001b[39;00m\n",
      "\u001b[0;31mValueError\u001b[0m: Failed to reach https://mermaid.ink API while trying to render your graph. Status code: 204.\n\nTo resolve this issue:\n1. Check your internet connection and try again\n2. Try with higher retry settings: `draw_mermaid_png(..., max_retries=5, retry_delay=2.0)`\n3. Use the Pyppeteer rendering method which will render your graph locally in a browser: `draw_mermaid_png(..., draw_method=MermaidDrawMethod.PYPPETEER)`"
     ]
    }
   ],
   "source": [
    "from IPython.display import Image, display\n",
    "display(Image(app.get_graph().draw_mermaid_png()))"
   ]
  },
  {
   "cell_type": "code",
   "execution_count": 11,
   "id": "5e1810fb",
   "metadata": {},
   "outputs": [
    {
     "name": "stdout",
     "output_type": "stream",
     "text": [
      "ENTERING LOOP 1\n",
      "ENTERING LOOP 2\n",
      "ENTERING LOOP 3\n",
      "ENTERING LOOP 4\n"
     ]
    },
    {
     "data": {
      "text/plain": [
       "{'name': 'Hi there, Vaibhav', 'number': [6, 3, 8, 6, 6], 'counter': 5}"
      ]
     },
     "execution_count": 11,
     "metadata": {},
     "output_type": "execute_result"
    }
   ],
   "source": [
    "app.invoke({\"name\":\"Vaibhav\", \"number\":[], \"counter\":-100})\n"
   ]
  },
  {
   "cell_type": "markdown",
   "id": "05425884",
   "metadata": {},
   "source": [
    "## Exercise 5"
   ]
  },
  {
   "cell_type": "code",
   "execution_count": 12,
   "id": "be130aa3",
   "metadata": {},
   "outputs": [],
   "source": [
    "from langgraph.graph import StateGraph, END\n",
    "import random\n",
    "from typing import Dict, List, TypedDict"
   ]
  },
  {
   "cell_type": "code",
   "execution_count": 13,
   "id": "75e66053",
   "metadata": {},
   "outputs": [],
   "source": [
    "class GameState(TypedDict):\n",
    "    player_name: str\n",
    "    target_number: int\n",
    "    guesses: List[int]\n",
    "    attempts: int\n",
    "    hint: str\n",
    "    lower_bound: int \n",
    "    upper_bound: int "
   ]
  },
  {
   "cell_type": "code",
   "execution_count": 14,
   "id": "06b363f7",
   "metadata": {},
   "outputs": [],
   "source": [
    "def setup_node(state: GameState) -> GameState:\n",
    "    \"\"\"Initialize the game with a random target number\"\"\"\n",
    "    state[\"player_name\"] = f\"Welcome, {state['player_name']}!\"\n",
    "    state[\"target_number\"] = random.randint(1, 20)\n",
    "    state[\"guesses\"] = []\n",
    "    state[\"attempts\"] = 0\n",
    "    state[\"hint\"] = \"Game started! Try to guess the number.\"\n",
    "    state[\"lower_bound\"] = 1 \n",
    "    state[\"upper_bound\"] = 20 \n",
    "    print(f\"{state['player_name']} The game has begun. I'm thinking of a number between 1 and 20.\")\n",
    "    return state"
   ]
  },
  {
   "cell_type": "code",
   "execution_count": 15,
   "id": "ddfb1c8c",
   "metadata": {},
   "outputs": [],
   "source": [
    "def guess_node(state: GameState) -> GameState:\n",
    "    \"\"\"Generate a smarter guess based on previous hints\"\"\"\n",
    "    \n",
    "    possible_guesses = [i for i in range(state[\"lower_bound\"], state[\"upper_bound\"] + 1) if i not in state[\"guesses\"]]\n",
    "    if possible_guesses:\n",
    "        guess = random.choice(possible_guesses)\n",
    "    else:\n",
    "        \n",
    "        guess = random.randint(state[\"lower_bound\"], state[\"upper_bound\"])\n",
    "    \n",
    "    state[\"guesses\"].append(guess)\n",
    "    state[\"attempts\"] += 1\n",
    "    print(f\"Attempt {state['attempts']}: Guessing {guess} (Current range: {state['lower_bound']}-{state['upper_bound']})\")\n",
    "    return state"
   ]
  },
  {
   "cell_type": "code",
   "execution_count": 16,
   "id": "cb2b1717",
   "metadata": {},
   "outputs": [],
   "source": [
    "def hint_node(state: GameState) -> GameState:\n",
    "    \"\"\"Here we provide a hint based on the last guess and update the bounds\"\"\"\n",
    "    latest_guess = state[\"guesses\"][-1]\n",
    "    target = state[\"target_number\"]\n",
    "    \n",
    "    if latest_guess < target:\n",
    "        state[\"hint\"] = f\"The number {latest_guess} is too low. Try higher!\"\n",
    "        \n",
    "        state[\"lower_bound\"] = max(state[\"lower_bound\"], latest_guess + 1)\n",
    "        print(f\"Hint: {state['hint']}\")\n",
    "        \n",
    "    elif latest_guess > target:\n",
    "        state[\"hint\"] = f\"The number {latest_guess} is too high. Try lower!\"\n",
    "      \n",
    "        state[\"upper_bound\"] = min(state[\"upper_bound\"], latest_guess - 1)\n",
    "        print(f\"Hint: {state['hint']}\")\n",
    "    else:\n",
    "        state[\"hint\"] = f\"Correct! You found the number {target} in {state['attempts']} attempts.\"\n",
    "        print(f\"Success! {state['hint']}\")\n",
    "    \n",
    "    return state"
   ]
  },
  {
   "cell_type": "code",
   "execution_count": 17,
   "id": "39fe8d5d",
   "metadata": {},
   "outputs": [],
   "source": [
    "def should_continue(state: GameState) -> str:\n",
    "    \"\"\"Determine if we should continue guessing or end the game\"\"\"\n",
    "    \n",
    "    # There are 2 end conditions - either 7 is reached or the correct number is guessed\n",
    "    \n",
    "    latest_guess = state[\"guesses\"][-1]\n",
    "    if latest_guess == state[\"target_number\"]:\n",
    "        print(f\"GAME OVER: Number found!\")\n",
    "        return \"end\"\n",
    "    elif state[\"attempts\"] >= 7:\n",
    "        print(f\"GAME OVER: Maximum attempts reached! The number was {state['target_number']}\")\n",
    "        return \"end\"\n",
    "    else:\n",
    "        print(f\"CONTINUING: {state['attempts']}/7 attempts used\")\n",
    "        return \"continue\""
   ]
  },
  {
   "cell_type": "code",
   "execution_count": 18,
   "id": "7782b03d",
   "metadata": {},
   "outputs": [],
   "source": [
    "graph = StateGraph(GameState)\n",
    "graph.add_node(\"setup\", setup_node)\n",
    "graph.add_node(\"guess\", guess_node)\n",
    "graph.add_node(\"hint_node\", hint_node)  \n",
    "\n",
    "\n",
    "graph.add_edge(\"setup\", \"guess\")\n",
    "graph.add_edge(\"guess\", \"hint_node\")  \n",
    "\n",
    "\n",
    "graph.add_conditional_edges(\n",
    "    \"hint_node\", \n",
    "    should_continue,\n",
    "    {\n",
    "        \"continue\": \"guess\",\n",
    "        \"end\": END\n",
    "    }\n",
    ")\n",
    "\n",
    "graph.set_entry_point(\"setup\")\n",
    "app = graph.compile()"
   ]
  },
  {
   "cell_type": "code",
   "execution_count": 19,
   "id": "3f1dfc8d",
   "metadata": {},
   "outputs": [
    {
     "data": {
      "image/png": "[encoded data removed]",
      "text/plain": [
       "<IPython.core.display.Image object>"
      ]
     },
     "metadata": {},
     "output_type": "display_data"
    }
   ],
   "source": [
    "from IPython.display import Image, display\n",
    "display(Image(app.get_graph().draw_mermaid_png()))"
   ]
  },
  {
   "cell_type": "code",
   "execution_count": 20,
   "id": "d4b256d3",
   "metadata": {},
   "outputs": [
    {
     "name": "stdout",
     "output_type": "stream",
     "text": [
      "Welcome, Student! The game has begun. I'm thinking of a number between 1 and 20.\n",
      "Attempt 1: Guessing 14 (Current range: 1-20)\n",
      "Hint: The number 14 is too high. Try lower!\n",
      "CONTINUING: 1/7 attempts used\n",
      "Attempt 2: Guessing 7 (Current range: 1-13)\n",
      "Hint: The number 7 is too low. Try higher!\n",
      "CONTINUING: 2/7 attempts used\n",
      "Attempt 3: Guessing 13 (Current range: 8-13)\n",
      "Hint: The number 13 is too high. Try lower!\n",
      "CONTINUING: 3/7 attempts used\n",
      "Attempt 4: Guessing 9 (Current range: 8-12)\n",
      "Hint: The number 9 is too high. Try lower!\n",
      "CONTINUING: 4/7 attempts used\n",
      "Attempt 5: Guessing 8 (Current range: 8-8)\n",
      "Success! Correct! You found the number 8 in 5 attempts.\n",
      "GAME OVER: Number found!\n"
     ]
    }
   ],
   "source": [
    "result = app.invoke({\"player_name\": \"Student\", \"guesses\": [], \"attempts\": 0, \"lower_bound\": 1, \"upper_bound\": 20})\n"
   ]
  },
  {
   "cell_type": "code",
   "execution_count": null,
   "id": "20a5198b",
   "metadata": {},
   "outputs": [],
   "source": []
  }
 ],
 "metadata": {
  "kernelspec": {
   "display_name": "llmFromGroundUp",
   "language": "python",
   "name": "python3"
  },
  "language_info": {
   "codemirror_mode": {
    "name": "ipython",
    "version": 3
   },
   "file_extension": ".py",
   "mimetype": "text/x-python",
   "name": "python",
   "nbconvert_exporter": "python",
   "pygments_lexer": "ipython3",
   "version": "3.10.8"
  }
 },
 "nbformat": 4,
 "nbformat_minor": 5
}
