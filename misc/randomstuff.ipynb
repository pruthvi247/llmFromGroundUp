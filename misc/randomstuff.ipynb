{
 "cells": [
  {
   "cell_type": "code",
   "execution_count": null,
   "id": "f325ebc0-8e69-4f05-bb35-8de7ff53317b",
   "metadata": {},
   "outputs": [],
   "source": [
    "!uv pip list\n"
   ]
  },
  {
   "cell_type": "code",
   "execution_count": 2,
   "id": "9886c225-364b-4bed-8bae-97616ea2bc6d",
   "metadata": {},
   "outputs": [
    {
     "name": "stdout",
     "output_type": "stream",
     "text": [
      "/Users/I562107/Documents/workspace/open_source/practice-projects/llmFromGroundUp/.venv/bin/python\n"
     ]
    }
   ],
   "source": [
    "!which python"
   ]
  },
  {
   "cell_type": "code",
   "execution_count": null,
   "id": "dc3302c2-88a8-4fe0-b39b-adf4f228db03",
   "metadata": {},
   "outputs": [],
   "source": []
  }
 ],
 "metadata": {
  "kernelspec": {
   "display_name": "Python 3 (ipykernel)",
   "language": "python",
   "name": "python3"
  },
  "language_info": {
   "codemirror_mode": {
    "name": "ipython",
    "version": 3
   },
   "file_extension": ".py",
   "mimetype": "text/x-python",
   "name": "python",
   "nbconvert_exporter": "python",
   "pygments_lexer": "ipython3",
   "version": "3.10.8"
  }
 },
 "nbformat": 4,
 "nbformat_minor": 5
}
