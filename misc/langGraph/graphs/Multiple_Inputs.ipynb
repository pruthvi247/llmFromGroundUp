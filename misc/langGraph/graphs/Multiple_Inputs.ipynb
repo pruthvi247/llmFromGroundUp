{
 "cells": [
  {
   "cell_type": "markdown",
   "id": "7748e95d",
   "metadata": {},
   "source": [
    "# Graph 2"
   ]
  },
  {
   "cell_type": "code",
   "execution_count": 4,
   "id": "49c65dcf",
   "metadata": {},
   "outputs": [],
   "source": [
    "from typing import TypedDict, List\n",
    "from langgraph.graph import StateGraph "
   ]
  },
  {
   "cell_type": "code",
   "execution_count": 5,
   "id": "45e2ca00",
   "metadata": {},
   "outputs": [],
   "source": [
    "class AgentState(TypedDict):\n",
    "    values: List[int]\n",
    "    name: str \n",
    "    result: str "
   ]
  },
  {
   "cell_type": "code",
   "execution_count": 7,
   "id": "896e48e3",
   "metadata": {},
   "outputs": [],
   "source": [
    "def process_values(state: AgentState) -> AgentState:\n",
    "    \"\"\"This function handles multiple different inputs\"\"\"\n",
    "    print(state)\n",
    "\n",
    "    state[\"result\"] = f\"Hi there {state['name']}! Your sum = {sum(state['values'])}\"\n",
    "\n",
    "    print(state)\n",
    "    return state"
   ]
  },
  {
   "cell_type": "code",
   "execution_count": 8,
   "id": "71bdb4e1",
   "metadata": {},
   "outputs": [],
   "source": [
    "graph = StateGraph(AgentState)\n",
    "\n",
    "graph.add_node(\"processor\", process_values)\n",
    "graph.set_entry_point(\"processor\") # Set the starting node\n",
    "graph.set_finish_point(\"processor\") # Set the ending node\n",
    "\n",
    "app = graph.compile() # Compiling the graph"
   ]
  },
  {
   "cell_type": "code",
   "execution_count": 11,
   "id": "495bf199",
   "metadata": {},
   "outputs": [],
   "source": [
    "# from IPython.display import Image, display\n",
    "# display(Image(app.get_graph().draw_mermaid_png()))"
   ]
  },
  {
   "cell_type": "code",
   "execution_count": 9,
   "id": "0fb2e43b",
   "metadata": {},
   "outputs": [
    {
     "name": "stdout",
     "output_type": "stream",
     "text": [
      "{'values': [1, 2, 3, 4], 'name': 'Steve'}\n",
      "{'values': [1, 2, 3, 4], 'name': 'Steve', 'result': 'Hi there Steve! Your sum = 10'}\n"
     ]
    }
   ],
   "source": [
    "answers = app.invoke({\"values\": [1,2,3,4], \"name\": \"Steve\"})\n"
   ]
  },
  {
   "cell_type": "code",
   "execution_count": 10,
   "id": "fbea2be6",
   "metadata": {},
   "outputs": [
    {
     "name": "stdout",
     "output_type": "stream",
     "text": [
      "Hi there Steve! Your sum = 10\n"
     ]
    }
   ],
   "source": [
    "print(answers[\"result\"])"
   ]
  },
  {
   "cell_type": "markdown",
   "id": "a933f3f0",
   "metadata": {},
   "source": [
    "## Exercise 2\n"
   ]
  },
  {
   "cell_type": "code",
   "execution_count": 12,
   "id": "7c31ef56",
   "metadata": {},
   "outputs": [],
   "source": [
    "class AgentState(TypedDict):\n",
    "    name: str \n",
    "    values: List[int]\n",
    "    operation: str\n",
    "    result: str "
   ]
  },
  {
   "cell_type": "code",
   "execution_count": 13,
   "id": "96478792",
   "metadata": {},
   "outputs": [],
   "source": [
    "def process_values(state: AgentState) -> AgentState:\n",
    "    \"\"\"This function handles multiple different inputs\"\"\"\n",
    "    if state[\"operation\"] == \"+\":\n",
    "        state[\"result\"] = f\"Hi {state['name']}, your answer is: {sum(state['values'])}\"\n",
    "    elif state[\"operation\"] == \"*\":\n",
    "        state[\"result\"] = f\"Hi {state['name']}, your answer is: {math.prod(state['values'])}\"\n",
    "    else:\n",
    "        state[\"result\"] = \"Invalid!\"\n",
    "\n",
    "    return state"
   ]
  },
  {
   "cell_type": "code",
   "execution_count": 14,
   "id": "f569e53a",
   "metadata": {},
   "outputs": [],
   "source": [
    "graph = StateGraph(AgentState)\n",
    "\n",
    "graph.add_node(\"processor\", process_values)\n",
    "graph.set_entry_point(\"processor\") \n",
    "graph.set_finish_point(\"processor\") \n",
    "\n",
    "app = graph.compile() "
   ]
  },
  {
   "cell_type": "code",
   "execution_count": 16,
   "id": "c57b50bd",
   "metadata": {},
   "outputs": [
    {
     "name": "stdout",
     "output_type": "stream",
     "text": [
      "Hi Jack Sparrow, your answer is: 24\n"
     ]
    }
   ],
   "source": [
    "import math\n",
    "answers = app.invoke({\"name\": \"Jack Sparrow\",\"values\": [1,2,3,4] , \"operation\": \"*\"})\n",
    "print(answers[\"result\"])"
   ]
  }
 ],
 "metadata": {
  "kernelspec": {
   "display_name": "llmFromGroundUp",
   "language": "python",
   "name": "python3"
  },
  "language_info": {
   "codemirror_mode": {
    "name": "ipython",
    "version": 3
   },
   "file_extension": ".py",
   "mimetype": "text/x-python",
   "name": "python",
   "nbconvert_exporter": "python",
   "pygments_lexer": "ipython3",
   "version": "3.10.8"
  }
 },
 "nbformat": 4,
 "nbformat_minor": 5
}
