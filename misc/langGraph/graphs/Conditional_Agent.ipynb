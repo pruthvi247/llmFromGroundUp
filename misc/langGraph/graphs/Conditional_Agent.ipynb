{
 "cells": [
  {
   "cell_type": "markdown",
   "id": "f6a17515",
   "metadata": {},
   "source": [
    "# Graph 4"
   ]
  },
  {
   "cell_type": "code",
   "execution_count": 1,
   "id": "f6a29070",
   "metadata": {},
   "outputs": [],
   "source": [
    "from typing import TypedDict\n",
    "from langgraph.graph import StateGraph, START, END"
   ]
  },
  {
   "cell_type": "code",
   "execution_count": 5,
   "id": "dff79894",
   "metadata": {},
   "outputs": [],
   "source": [
    "class AgentState(TypedDict):\n",
    "    number1: int \n",
    "    operation: str \n",
    "    number2: int\n",
    "    finalNumber: int"
   ]
  },
  {
   "cell_type": "code",
   "execution_count": 8,
   "id": "4d91cf5e",
   "metadata": {},
   "outputs": [],
   "source": [
    "def adder(state:AgentState) -> AgentState:\n",
    "    \"\"\"This node adds the 2 numbers\"\"\"\n",
    "    state[\"finalNumber\"] = state[\"number1\"] + state[\"number2\"]\n",
    "\n",
    "    return state\n",
    "\n",
    "def subtractor(state:AgentState) -> AgentState:\n",
    "    \"\"\"This node subtracts the 2 numbers\"\"\"\n",
    "    state[\"finalNumber\"] = state[\"number1\"] - state[\"number2\"]\n",
    "    return state\n",
    "\n",
    "\n",
    "def decide_next_node(state:AgentState) -> AgentState:\n",
    "    \"\"\"This node will select the next node of the graph\"\"\"\n",
    "\n",
    "    if state[\"operation\"] == \"+\":\n",
    "        return \"addition_operation\"\n",
    "    \n",
    "    elif state[\"operation\"] == \"-\":\n",
    "        return \"subtraction_operation\" "
   ]
  },
  {
   "cell_type": "code",
   "execution_count": 9,
   "id": "78383196",
   "metadata": {},
   "outputs": [],
   "source": [
    "graph = StateGraph(AgentState)\n",
    "\n",
    "graph.add_node(\"add_node\", adder)\n",
    "graph.add_node(\"subtract_node\", subtractor)\n",
    "graph.add_node(\"router\", lambda state:state) # passthrough function\n",
    "\n",
    "graph.add_edge(START, \"router\") \n",
    "\n",
    "graph.add_conditional_edges(\n",
    "    \"router\",\n",
    "    decide_next_node, \n",
    "\n",
    "    {\n",
    "        # Edge: Node\n",
    "        \"addition_operation\": \"add_node\",\n",
    "        \"subtraction_operation\": \"subtract_node\"\n",
    "    }\n",
    "\n",
    ")\n",
    "\n",
    "graph.add_edge(\"add_node\", END)\n",
    "graph.add_edge(\"subtract_node\", END)\n",
    "\n",
    "app = graph.compile()"
   ]
  },
  {
   "cell_type": "code",
   "execution_count": 10,
   "id": "ae8dc708",
   "metadata": {},
   "outputs": [
    {
     "data": {
      "image/png": "[encoded data removed]",
      "text/plain": [
       "<IPython.core.display.Image object>"
      ]
     },
     "metadata": {},
     "output_type": "display_data"
    }
   ],
   "source": [
    "from IPython.display import Image, display\n",
    "display(Image(app.get_graph().draw_mermaid_png()))"
   ]
  },
  {
   "cell_type": "code",
   "execution_count": 11,
   "id": "308cd4c7",
   "metadata": {},
   "outputs": [
    {
     "name": "stdout",
     "output_type": "stream",
     "text": [
      "{'number1': 10, 'operation': '-', 'number2': 5, 'finalNumber': 5}\n"
     ]
    }
   ],
   "source": [
    "initial_state_1 = AgentState(number1 = 10, operation=\"-\", number2 = 5)\n",
    "print(app.invoke(initial_state_1))"
   ]
  },
  {
   "cell_type": "code",
   "execution_count": 12,
   "id": "8ed07246",
   "metadata": {},
   "outputs": [
    {
     "name": "stdout",
     "output_type": "stream",
     "text": [
      "{'number1': 10, 'operation': '+', 'number2': 5, 'finalNumber': 15}\n"
     ]
    }
   ],
   "source": [
    "result = app.invoke({\"number1\": 10, \"operation\": \"+\", \"number2\": 5})\n",
    "print(result)"
   ]
  },
  {
   "cell_type": "markdown",
   "id": "c96e915b",
   "metadata": {},
   "source": [
    "## Exercise 4"
   ]
  },
  {
   "cell_type": "code",
   "execution_count": 13,
   "id": "0da210e2",
   "metadata": {},
   "outputs": [],
   "source": [
    "class AgentState(TypedDict):\n",
    "    number1: int \n",
    "    operation: str\n",
    "    number2: int\n",
    "    finalNumber: int\n",
    "    number3: int\n",
    "    operation2: str\n",
    "    number4: int\n",
    "    finalNumber2: int"
   ]
  },
  {
   "cell_type": "code",
   "execution_count": 14,
   "id": "e272627b",
   "metadata": {},
   "outputs": [],
   "source": [
    "def adder(state:AgentState) -> AgentState:\n",
    "    \"\"\"This node adds the 2 numbers\"\"\"\n",
    "    print(\"adder\")\n",
    "    state[\"finalNumber\"] = state[\"number1\"] + state[\"number2\"]\n",
    "    return state\n",
    "\n",
    "def subtractor(state:AgentState) -> AgentState:\n",
    "    \"\"\"This node subtracts the 2 numbers\"\"\"\n",
    "    print(\"subtractor\")\n",
    "    state[\"finalNumber\"] = state[\"number1\"] - state[\"number2\"]\n",
    "    return state\n",
    "\n",
    "def decide_next_node(state:AgentState) -> AgentState:\n",
    "    \"\"\"This node will select the next phase\"\"\"\n",
    "    if state[\"operation\"] == \"+\":\n",
    "        return \"addition_operation\"\n",
    "    \n",
    "    elif state[\"operation\"] == \"-\":\n",
    "        print(\"SUB 1\")\n",
    "        return \"subtraction_operation\"   \n",
    "\n",
    "\n",
    "def adder2(state:AgentState) -> AgentState:\n",
    "    \"\"\"This node adds the 2 numbers\"\"\"\n",
    "    print(\"adder1\")\n",
    "    state[\"finalNumber2\"] = state[\"number3\"] + state[\"number4\"]\n",
    "    print(state[\"finalNumber2\"])\n",
    "\n",
    "    return state\n",
    "\n",
    "def subtractor2(state:AgentState) -> AgentState:\n",
    "    \"\"\"This node subtracts the 2 numbers\"\"\"\n",
    "    print(\"subtractor1\")\n",
    "    state[\"finalNumber2\"] = state[\"number3\"] - state[\"number4\"]\n",
    "    print(state[\"finalNumber2\"])\n",
    "    return state\n",
    "\n",
    "def decide_next_node1(state:AgentState) -> AgentState:\n",
    "    \"\"\"This node will select the next phase\"\"\"\n",
    "    if state[\"operation2\"] == \"+\":\n",
    "        print(\"ADD1\")\n",
    "        return \"addition_operation2\"\n",
    "    \n",
    "    elif state[\"operation2\"] == \"-\":\n",
    "        return \"subtraction_operation2\"   "
   ]
  },
  {
   "cell_type": "code",
   "execution_count": 15,
   "id": "7f109cef",
   "metadata": {},
   "outputs": [],
   "source": [
    "graph = StateGraph(AgentState)\n",
    "\n",
    "graph.add_node(\"add_node\", adder)\n",
    "graph.add_node(\"subtract_node\", subtractor)\n",
    "graph.add_node(\"router\", lambda state:state) \n",
    "\n",
    "graph.add_node(\"add_node2\", adder2)\n",
    "graph.add_node(\"subtract_node2\", subtractor2)\n",
    "graph.add_node(\"router2\", lambda state:state) \n",
    "\n",
    "\n",
    "graph.add_edge(START, \"router\")\n",
    "\n",
    "graph.add_conditional_edges(\n",
    "    \"router\", \n",
    "    decide_next_node,\n",
    "    {\n",
    "        # Edge: Node format\n",
    "        \"addition_operation\": \"add_node\",\n",
    "        \"subtraction_operation\": \"subtract_node\"\n",
    "    }\n",
    ")\n",
    "\n",
    "\n",
    "graph.add_edge(\"add_node\", \"router2\")\n",
    "graph.add_edge(\"subtract_node\", \"router2\")\n",
    "\n",
    "graph.add_conditional_edges(\n",
    "    \"router2\", \n",
    "    decide_next_node1,\n",
    "    {\n",
    "        # Edge: Node format\n",
    "        \"addition_operation2\": \"add_node2\",\n",
    "        \"subtraction_operation2\": \"subtract_node2\"\n",
    "    }\n",
    ")\n",
    "\n",
    "\n",
    "graph.add_edge(\"add_node2\", END)\n",
    "graph.add_edge(\"subtract_node2\", END)\n",
    "\n",
    "app = graph.compile()"
   ]
  },
  {
   "cell_type": "code",
   "execution_count": 19,
   "id": "f6d473fb",
   "metadata": {},
   "outputs": [
    {
     "data": {
      "image/png": "[encoded data removed]",
      "text/plain": [
       "<IPython.core.display.Image object>"
      ]
     },
     "metadata": {},
     "output_type": "display_data"
    }
   ],
   "source": [
    "from IPython.display import Image, display\n",
    "display(Image(app.get_graph().draw_mermaid_png()))"
   ]
  },
  {
   "cell_type": "code",
   "execution_count": 17,
   "id": "bf1c19a3",
   "metadata": {},
   "outputs": [],
   "source": [
    "initial_state = AgentState(number1 = 10, operation=\"-\", number2 = 5, number3 = 7, number4=2, operation2=\"+\", finalNumber= 0, finalNumber2 = 0)\n"
   ]
  },
  {
   "cell_type": "code",
   "execution_count": 18,
   "id": "cc33368e",
   "metadata": {},
   "outputs": [
    {
     "name": "stdout",
     "output_type": "stream",
     "text": [
      "SUB 1\n",
      "subtractor\n",
      "ADD1\n",
      "adder1\n",
      "9\n",
      "{'number1': 10, 'operation': '-', 'number2': 5, 'finalNumber': 5, 'number3': 7, 'operation2': '+', 'number4': 2, 'finalNumber2': 9}\n"
     ]
    }
   ],
   "source": [
    "print(app.invoke(initial_state))\n"
   ]
  },
  {
   "cell_type": "code",
   "execution_count": null,
   "id": "99280afd",
   "metadata": {},
   "outputs": [],
   "source": []
  }
 ],
 "metadata": {
  "kernelspec": {
   "display_name": "llmFromGroundUp",
   "language": "python",
   "name": "python3"
  },
  "language_info": {
   "codemirror_mode": {
    "name": "ipython",
    "version": 3
   },
   "file_extension": ".py",
   "mimetype": "text/x-python",
   "name": "python",
   "nbconvert_exporter": "python",
   "pygments_lexer": "ipython3",
   "version": "3.10.8"
  }
 },
 "nbformat": 4,
 "nbformat_minor": 5
}
